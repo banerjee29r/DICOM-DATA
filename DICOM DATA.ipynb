{
 "cells": [
  {
   "cell_type": "markdown",
   "metadata": {},
   "source": [
    "<H1>DICOM DATA</H1>"
   ]
  },
  {
   "cell_type": "markdown",
   "metadata": {},
   "source": [
    "## For running this file you need to install anaconda from the https://www.anaconda.com/download/ and select the operating system which you are having \n",
    "<ul id=\"download-tabs\" class=\"tabs marg-auto block bg-white width-100 hidden-xs\" data-scroll-class=\"100vh:pos-fixed\" style=\"max-width: 794px;\"><li class=\"active\"><div class=\"tab-title\"> <span class=\"h4 unmarg text-center\"> <i class=\"icon icon-xs ana ana-windows\"></i> <span class=\"space\">&nbsp;</span> Windows </span></div></li><li class=\"\"><div class=\"tab-title\"> <span class=\"h4 unmarg text-center\"> <i class=\"icon icon-xs ana ana-apple\"></i> <span class=\"space\">&nbsp;</span> macOS </span></div></li><li class=\"\"><div class=\"tab-title\"> <span class=\"h4 unmarg text-center\"> <i class=\"icon icon-xs ana ana-linux\"></i> <span class=\"space\">&nbsp;</span> Linux </span></div></li></ul>\n",
    "## Then select python 3.7 and install as per the instructions provided by the dialogbox.\n",
    "\n",
    "## After the installation is complete.\n",
    "## Open the anaconda navigator\n",
    "<img style=\"-webkit-user-select: none;cursor: zoom-in;\" src=\"https://user-images.githubusercontent.com/29758969/27991912-3d0c8bca-64b8-11e7-90f4-65bd2a961cd4.JPG\" width=\"1018\" height=\"545\">\n",
    "\n",
    "## From this open jupyter notebook and open the file 'DICOM DATA.ipynb'"
   ]
  },
  {
   "cell_type": "markdown",
   "metadata": {},
   "source": [
    "## Objective of this git is to download files ttfm.dcm and bmode.dcm from https://medistim.com/dicom/ and read the file in python to obtain the tags of both files and write them in a text file.\n",
    "\n",
    "## (!easy_install pip) is used to install pip.\n",
    "\n",
    "## It is helpful if the script.py fucntion is not present while using pip command."
   ]
  },
  {
   "cell_type": "code",
   "execution_count": 1,
   "metadata": {},
   "outputs": [
    {
     "name": "stdout",
     "output_type": "stream",
     "text": [
      "Searching for pip\n",
      "Best match: pip 18.0\n",
      "Adding pip 18.0 to easy-install.pth file\n",
      "Installing pip-script.py script to C:\\Users\\DELL\\Anaconda3\\Scripts\n",
      "Installing pip.exe script to C:\\Users\\DELL\\Anaconda3\\Scripts\n",
      "Installing pip3-script.py script to C:\\Users\\DELL\\Anaconda3\\Scripts\n",
      "Installing pip3.exe script to C:\\Users\\DELL\\Anaconda3\\Scripts\n",
      "Installing pip3.7-script.py script to C:\\Users\\DELL\\Anaconda3\\Scripts\n",
      "Installing pip3.7.exe script to C:\\Users\\DELL\\Anaconda3\\Scripts\n",
      "\n",
      "Using c:\\users\\dell\\anaconda3\\lib\\site-packages\n",
      "Processing dependencies for pip\n",
      "Finished processing dependencies for pip\n"
     ]
    }
   ],
   "source": [
    "!easy_install pip"
   ]
  },
  {
   "cell_type": "markdown",
   "metadata": {},
   "source": [
    "## (!pip install -U pydicom) helps to install pydicom package to work on dicom data.\n",
    "\n",
    "### DICOM image file is an outcome of the Digital Imaging and Communications in Medicine standard. Specifically, image files that are compliant with part 10 of the DICOM standard are generally referred to as “DICOM format files” or simply “DICOM files” and are represented as “.dcm.” \n",
    "<td><img src=\"https://medistim.com/wp-content/uploads/2016/07/ttfm.png\" width=\"400px\"></td><img src=\"https://medistim.com/wp-content/uploads/2016/07/bmode.png\" width=\"400px\">"
   ]
  },
  {
   "cell_type": "code",
   "execution_count": 2,
   "metadata": {},
   "outputs": [
    {
     "name": "stdout",
     "output_type": "stream",
     "text": [
      "Requirement already up-to-date: pydicom in c:\\users\\dell\\anaconda3\\lib\\site-packages (1.2.1)\n"
     ]
    },
    {
     "name": "stderr",
     "output_type": "stream",
     "text": [
      "You are using pip version 18.0, however version 18.1 is available.\n",
      "You should consider upgrading via the 'python -m pip install --upgrade pip' command.\n"
     ]
    }
   ],
   "source": [
    "!pip install -U pydicom"
   ]
  },
  {
   "cell_type": "markdown",
   "metadata": {},
   "source": [
    "## We require OS module helps to get interact with the operating system and some time helps to get the working directory location or even change it.\n",
    "\n",
    "## Importing pydicom helps to work with dicom data as \".dcm\" file.\n",
    "\n",
    "## Pandas library helps to work on the data frame.\n",
    "\n",
    "## Numpy helps to save the output required in a text file.\n",
    "\n"
   ]
  },
  {
   "cell_type": "code",
   "execution_count": 3,
   "metadata": {},
   "outputs": [
    {
     "data": {
      "text/plain": [
       "'C:\\\\Users\\\\DELL'"
      ]
     },
     "execution_count": 3,
     "metadata": {},
     "output_type": "execute_result"
    }
   ],
   "source": [
    "#Importing the required packages and modules\n",
    "import os\n",
    "import pydicom\n",
    "import pandas as pd\n",
    "import numpy as np \n",
    "#It helps to find the working directory\n",
    "os.getcwd()"
   ]
  },
  {
   "cell_type": "markdown",
   "metadata": {},
   "source": [
    "## Saving the files path in two different arguments which can be passed to the pydicom.dcmreader() function to read the files."
   ]
  },
  {
   "cell_type": "code",
   "execution_count": 4,
   "metadata": {},
   "outputs": [],
   "source": [
    "filepath_ttfmfile='C:\\\\Users\\\\DELL\\\\ttfm.dcm'\n",
    "filepath_bmodefile='C:\\\\Users\\\\DELL\\\\bmode.dcm'"
   ]
  },
  {
   "cell_type": "code",
   "execution_count": 5,
   "metadata": {},
   "outputs": [],
   "source": [
    "ttfmfile = pydicom.dcmread(filepath_ttfmfile)\n",
    "bmodefile= pydicom.dcmread(filepath_bmodefile)"
   ]
  },
  {
   "cell_type": "markdown",
   "metadata": {},
   "source": [
    "## dir() function helps to find the attributes or tags of a data set."
   ]
  },
  {
   "cell_type": "code",
   "execution_count": 6,
   "metadata": {},
   "outputs": [],
   "source": [
    "ttfmfile_tag=ttfmfile.dir()\n",
    "bmodefile_tag=bmodefile.dir()"
   ]
  },
  {
   "cell_type": "code",
   "execution_count": 7,
   "metadata": {},
   "outputs": [
    {
     "name": "stdout",
     "output_type": "stream",
     "text": [
      "56\n",
      "56\n"
     ]
    }
   ],
   "source": [
    "print(len(ttfmfile_tag))\n",
    "print(len(bmodefile_tag))"
   ]
  },
  {
   "cell_type": "markdown",
   "metadata": {},
   "source": [
    "## The number of attributes are same in both the data sets.\n",
    "\n",
    "## We will now use the zip() function inside list fuction to first zip the two list ttfmfile_tag and bmodefile_tag and then convert them to list again which will help us to form a data frame."
   ]
  },
  {
   "cell_type": "code",
   "execution_count": 8,
   "metadata": {},
   "outputs": [],
   "source": [
    "TagofBoth_files=list(zip(ttfmfile_tag,bmodefile_tag))"
   ]
  },
  {
   "cell_type": "markdown",
   "metadata": {},
   "source": [
    "## Here we formed a data frame using pandas and provide a column name to the lists."
   ]
  },
  {
   "cell_type": "code",
   "execution_count": 9,
   "metadata": {},
   "outputs": [],
   "source": [
    "Tag_of_both_file= pd.DataFrame(TagofBoth_files, columns = ['ttfn tags', 'bmode tags']) "
   ]
  },
  {
   "cell_type": "code",
   "execution_count": 10,
   "metadata": {},
   "outputs": [
    {
     "data": {
      "text/html": [
       "<div>\n",
       "<style scoped>\n",
       "    .dataframe tbody tr th:only-of-type {\n",
       "        vertical-align: middle;\n",
       "    }\n",
       "\n",
       "    .dataframe tbody tr th {\n",
       "        vertical-align: top;\n",
       "    }\n",
       "\n",
       "    .dataframe thead th {\n",
       "        text-align: right;\n",
       "    }\n",
       "</style>\n",
       "<table border=\"1\" class=\"dataframe\">\n",
       "  <thead>\n",
       "    <tr style=\"text-align: right;\">\n",
       "      <th></th>\n",
       "      <th>ttfn tags</th>\n",
       "      <th>bmode tags</th>\n",
       "    </tr>\n",
       "  </thead>\n",
       "  <tbody>\n",
       "    <tr>\n",
       "      <th>0</th>\n",
       "      <td>AccessionNumber</td>\n",
       "      <td>AccessionNumber</td>\n",
       "    </tr>\n",
       "    <tr>\n",
       "      <th>1</th>\n",
       "      <td>BitsAllocated</td>\n",
       "      <td>BitsAllocated</td>\n",
       "    </tr>\n",
       "    <tr>\n",
       "      <th>2</th>\n",
       "      <td>BitsStored</td>\n",
       "      <td>BitsStored</td>\n",
       "    </tr>\n",
       "    <tr>\n",
       "      <th>3</th>\n",
       "      <td>CineRate</td>\n",
       "      <td>CineRate</td>\n",
       "    </tr>\n",
       "    <tr>\n",
       "      <th>4</th>\n",
       "      <td>Columns</td>\n",
       "      <td>Columns</td>\n",
       "    </tr>\n",
       "    <tr>\n",
       "      <th>5</th>\n",
       "      <td>ContentDate</td>\n",
       "      <td>ContentDate</td>\n",
       "    </tr>\n",
       "    <tr>\n",
       "      <th>6</th>\n",
       "      <td>ContentTime</td>\n",
       "      <td>ContentTime</td>\n",
       "    </tr>\n",
       "    <tr>\n",
       "      <th>7</th>\n",
       "      <td>DeviceSerialNumber</td>\n",
       "      <td>DeviceSerialNumber</td>\n",
       "    </tr>\n",
       "    <tr>\n",
       "      <th>8</th>\n",
       "      <td>EffectiveDuration</td>\n",
       "      <td>EffectiveDuration</td>\n",
       "    </tr>\n",
       "    <tr>\n",
       "      <th>9</th>\n",
       "      <td>FrameIncrementPointer</td>\n",
       "      <td>FrameIncrementPointer</td>\n",
       "    </tr>\n",
       "    <tr>\n",
       "      <th>10</th>\n",
       "      <td>FrameTime</td>\n",
       "      <td>FrameTime</td>\n",
       "    </tr>\n",
       "    <tr>\n",
       "      <th>11</th>\n",
       "      <td>HighBit</td>\n",
       "      <td>HighBit</td>\n",
       "    </tr>\n",
       "    <tr>\n",
       "      <th>12</th>\n",
       "      <td>ImageComments</td>\n",
       "      <td>ImageComments</td>\n",
       "    </tr>\n",
       "    <tr>\n",
       "      <th>13</th>\n",
       "      <td>ImageType</td>\n",
       "      <td>ImageType</td>\n",
       "    </tr>\n",
       "    <tr>\n",
       "      <th>14</th>\n",
       "      <td>InstanceNumber</td>\n",
       "      <td>InstanceNumber</td>\n",
       "    </tr>\n",
       "    <tr>\n",
       "      <th>15</th>\n",
       "      <td>InstitutionAddress</td>\n",
       "      <td>InstitutionAddress</td>\n",
       "    </tr>\n",
       "    <tr>\n",
       "      <th>16</th>\n",
       "      <td>InstitutionName</td>\n",
       "      <td>InstitutionName</td>\n",
       "    </tr>\n",
       "    <tr>\n",
       "      <th>17</th>\n",
       "      <td>Laterality</td>\n",
       "      <td>Laterality</td>\n",
       "    </tr>\n",
       "    <tr>\n",
       "      <th>18</th>\n",
       "      <td>LossyImageCompression</td>\n",
       "      <td>LossyImageCompression</td>\n",
       "    </tr>\n",
       "    <tr>\n",
       "      <th>19</th>\n",
       "      <td>Manufacturer</td>\n",
       "      <td>Manufacturer</td>\n",
       "    </tr>\n",
       "    <tr>\n",
       "      <th>20</th>\n",
       "      <td>ManufacturerModelName</td>\n",
       "      <td>ManufacturerModelName</td>\n",
       "    </tr>\n",
       "    <tr>\n",
       "      <th>21</th>\n",
       "      <td>Modality</td>\n",
       "      <td>Modality</td>\n",
       "    </tr>\n",
       "    <tr>\n",
       "      <th>22</th>\n",
       "      <td>NumberOfFrames</td>\n",
       "      <td>NumberOfFrames</td>\n",
       "    </tr>\n",
       "    <tr>\n",
       "      <th>23</th>\n",
       "      <td>PatientBirthDate</td>\n",
       "      <td>PatientBirthDate</td>\n",
       "    </tr>\n",
       "    <tr>\n",
       "      <th>24</th>\n",
       "      <td>PatientComments</td>\n",
       "      <td>PatientComments</td>\n",
       "    </tr>\n",
       "    <tr>\n",
       "      <th>25</th>\n",
       "      <td>PatientID</td>\n",
       "      <td>PatientID</td>\n",
       "    </tr>\n",
       "    <tr>\n",
       "      <th>26</th>\n",
       "      <td>PatientName</td>\n",
       "      <td>PatientName</td>\n",
       "    </tr>\n",
       "    <tr>\n",
       "      <th>27</th>\n",
       "      <td>PatientOrientation</td>\n",
       "      <td>PatientOrientation</td>\n",
       "    </tr>\n",
       "    <tr>\n",
       "      <th>28</th>\n",
       "      <td>PatientSex</td>\n",
       "      <td>PatientSex</td>\n",
       "    </tr>\n",
       "    <tr>\n",
       "      <th>29</th>\n",
       "      <td>PatientSize</td>\n",
       "      <td>PatientSize</td>\n",
       "    </tr>\n",
       "    <tr>\n",
       "      <th>30</th>\n",
       "      <td>PatientWeight</td>\n",
       "      <td>PatientWeight</td>\n",
       "    </tr>\n",
       "    <tr>\n",
       "      <th>31</th>\n",
       "      <td>PerformingPhysicianName</td>\n",
       "      <td>PerformingPhysicianName</td>\n",
       "    </tr>\n",
       "    <tr>\n",
       "      <th>32</th>\n",
       "      <td>PhotometricInterpretation</td>\n",
       "      <td>PhotometricInterpretation</td>\n",
       "    </tr>\n",
       "    <tr>\n",
       "      <th>33</th>\n",
       "      <td>PixelData</td>\n",
       "      <td>PixelData</td>\n",
       "    </tr>\n",
       "    <tr>\n",
       "      <th>34</th>\n",
       "      <td>PixelRepresentation</td>\n",
       "      <td>PixelRepresentation</td>\n",
       "    </tr>\n",
       "    <tr>\n",
       "      <th>35</th>\n",
       "      <td>PlanarConfiguration</td>\n",
       "      <td>PlanarConfiguration</td>\n",
       "    </tr>\n",
       "    <tr>\n",
       "      <th>36</th>\n",
       "      <td>PreferredPlaybackSequencing</td>\n",
       "      <td>PreferredPlaybackSequencing</td>\n",
       "    </tr>\n",
       "    <tr>\n",
       "      <th>37</th>\n",
       "      <td>RecommendedDisplayFrameRate</td>\n",
       "      <td>RecommendedDisplayFrameRate</td>\n",
       "    </tr>\n",
       "    <tr>\n",
       "      <th>38</th>\n",
       "      <td>ReferringPhysicianName</td>\n",
       "      <td>ReferringPhysicianName</td>\n",
       "    </tr>\n",
       "    <tr>\n",
       "      <th>39</th>\n",
       "      <td>Rows</td>\n",
       "      <td>Rows</td>\n",
       "    </tr>\n",
       "    <tr>\n",
       "      <th>40</th>\n",
       "      <td>SOPClassUID</td>\n",
       "      <td>SOPClassUID</td>\n",
       "    </tr>\n",
       "    <tr>\n",
       "      <th>41</th>\n",
       "      <td>SOPInstanceUID</td>\n",
       "      <td>SOPInstanceUID</td>\n",
       "    </tr>\n",
       "    <tr>\n",
       "      <th>42</th>\n",
       "      <td>SamplesPerPixel</td>\n",
       "      <td>SamplesPerPixel</td>\n",
       "    </tr>\n",
       "    <tr>\n",
       "      <th>43</th>\n",
       "      <td>SequenceOfUltrasoundRegions</td>\n",
       "      <td>SequenceOfUltrasoundRegions</td>\n",
       "    </tr>\n",
       "    <tr>\n",
       "      <th>44</th>\n",
       "      <td>SeriesDate</td>\n",
       "      <td>SeriesDate</td>\n",
       "    </tr>\n",
       "    <tr>\n",
       "      <th>45</th>\n",
       "      <td>SeriesInstanceUID</td>\n",
       "      <td>SeriesInstanceUID</td>\n",
       "    </tr>\n",
       "    <tr>\n",
       "      <th>46</th>\n",
       "      <td>SeriesNumber</td>\n",
       "      <td>SeriesNumber</td>\n",
       "    </tr>\n",
       "    <tr>\n",
       "      <th>47</th>\n",
       "      <td>SeriesTime</td>\n",
       "      <td>SeriesTime</td>\n",
       "    </tr>\n",
       "    <tr>\n",
       "      <th>48</th>\n",
       "      <td>SoftwareVersions</td>\n",
       "      <td>SoftwareVersions</td>\n",
       "    </tr>\n",
       "    <tr>\n",
       "      <th>49</th>\n",
       "      <td>SpecificCharacterSet</td>\n",
       "      <td>SpecificCharacterSet</td>\n",
       "    </tr>\n",
       "    <tr>\n",
       "      <th>50</th>\n",
       "      <td>StationName</td>\n",
       "      <td>StationName</td>\n",
       "    </tr>\n",
       "    <tr>\n",
       "      <th>51</th>\n",
       "      <td>StudyDate</td>\n",
       "      <td>StudyDate</td>\n",
       "    </tr>\n",
       "    <tr>\n",
       "      <th>52</th>\n",
       "      <td>StudyDescription</td>\n",
       "      <td>StudyDescription</td>\n",
       "    </tr>\n",
       "    <tr>\n",
       "      <th>53</th>\n",
       "      <td>StudyID</td>\n",
       "      <td>StudyID</td>\n",
       "    </tr>\n",
       "    <tr>\n",
       "      <th>54</th>\n",
       "      <td>StudyInstanceUID</td>\n",
       "      <td>StudyInstanceUID</td>\n",
       "    </tr>\n",
       "    <tr>\n",
       "      <th>55</th>\n",
       "      <td>StudyTime</td>\n",
       "      <td>StudyTime</td>\n",
       "    </tr>\n",
       "  </tbody>\n",
       "</table>\n",
       "</div>"
      ],
      "text/plain": [
       "                      ttfn tags                   bmode tags\n",
       "0               AccessionNumber              AccessionNumber\n",
       "1                 BitsAllocated                BitsAllocated\n",
       "2                    BitsStored                   BitsStored\n",
       "3                      CineRate                     CineRate\n",
       "4                       Columns                      Columns\n",
       "5                   ContentDate                  ContentDate\n",
       "6                   ContentTime                  ContentTime\n",
       "7            DeviceSerialNumber           DeviceSerialNumber\n",
       "8             EffectiveDuration            EffectiveDuration\n",
       "9         FrameIncrementPointer        FrameIncrementPointer\n",
       "10                    FrameTime                    FrameTime\n",
       "11                      HighBit                      HighBit\n",
       "12                ImageComments                ImageComments\n",
       "13                    ImageType                    ImageType\n",
       "14               InstanceNumber               InstanceNumber\n",
       "15           InstitutionAddress           InstitutionAddress\n",
       "16              InstitutionName              InstitutionName\n",
       "17                   Laterality                   Laterality\n",
       "18        LossyImageCompression        LossyImageCompression\n",
       "19                 Manufacturer                 Manufacturer\n",
       "20        ManufacturerModelName        ManufacturerModelName\n",
       "21                     Modality                     Modality\n",
       "22               NumberOfFrames               NumberOfFrames\n",
       "23             PatientBirthDate             PatientBirthDate\n",
       "24              PatientComments              PatientComments\n",
       "25                    PatientID                    PatientID\n",
       "26                  PatientName                  PatientName\n",
       "27           PatientOrientation           PatientOrientation\n",
       "28                   PatientSex                   PatientSex\n",
       "29                  PatientSize                  PatientSize\n",
       "30                PatientWeight                PatientWeight\n",
       "31      PerformingPhysicianName      PerformingPhysicianName\n",
       "32    PhotometricInterpretation    PhotometricInterpretation\n",
       "33                    PixelData                    PixelData\n",
       "34          PixelRepresentation          PixelRepresentation\n",
       "35          PlanarConfiguration          PlanarConfiguration\n",
       "36  PreferredPlaybackSequencing  PreferredPlaybackSequencing\n",
       "37  RecommendedDisplayFrameRate  RecommendedDisplayFrameRate\n",
       "38       ReferringPhysicianName       ReferringPhysicianName\n",
       "39                         Rows                         Rows\n",
       "40                  SOPClassUID                  SOPClassUID\n",
       "41               SOPInstanceUID               SOPInstanceUID\n",
       "42              SamplesPerPixel              SamplesPerPixel\n",
       "43  SequenceOfUltrasoundRegions  SequenceOfUltrasoundRegions\n",
       "44                   SeriesDate                   SeriesDate\n",
       "45            SeriesInstanceUID            SeriesInstanceUID\n",
       "46                 SeriesNumber                 SeriesNumber\n",
       "47                   SeriesTime                   SeriesTime\n",
       "48             SoftwareVersions             SoftwareVersions\n",
       "49         SpecificCharacterSet         SpecificCharacterSet\n",
       "50                  StationName                  StationName\n",
       "51                    StudyDate                    StudyDate\n",
       "52             StudyDescription             StudyDescription\n",
       "53                      StudyID                      StudyID\n",
       "54             StudyInstanceUID             StudyInstanceUID\n",
       "55                    StudyTime                    StudyTime"
      ]
     },
     "execution_count": 10,
     "metadata": {},
     "output_type": "execute_result"
    }
   ],
   "source": [
    "Tag_of_both_file"
   ]
  },
  {
   "cell_type": "markdown",
   "metadata": {},
   "source": [
    "## Now we want this output to be written in a text file hence we used numpy.savetxt() to save the df in a text file.\n",
    "\n",
    "## here we used format(fmt) to be '%-30s' which is used as we want the format of the column value to be in string format by using s with 30 preceding s is given to provide the max character length for formatting and lastly the - sign is used for left alignment.\n",
    "\n",
    "## delimiter is \\t which is a tab space.\n",
    "\n",
    "## header is also seperated by 2 tab space to get the appropriate formatting."
   ]
  },
  {
   "cell_type": "code",
   "execution_count": 11,
   "metadata": {},
   "outputs": [],
   "source": [
    "np.savetxt('Tag_of_both_dcm_file.txt',Tag_of_both_file.values,fmt='%-30s',delimiter=\"\\t\", header=\"ttfm tag\\t\\t\\tbmode tag\") "
   ]
  },
  {
   "cell_type": "markdown",
   "metadata": {},
   "source": [
    "## More analysis on the data will come soon.\n",
    "\n",
    "## Open for contribution to make this git better for people want to use DICOM data."
   ]
  }
 ],
 "metadata": {
  "kernelspec": {
   "display_name": "Python 3",
   "language": "python",
   "name": "python3"
  },
  "language_info": {
   "codemirror_mode": {
    "name": "ipython",
    "version": 3
   },
   "file_extension": ".py",
   "mimetype": "text/x-python",
   "name": "python",
   "nbconvert_exporter": "python",
   "pygments_lexer": "ipython3",
   "version": "3.6.4"
  }
 },
 "nbformat": 4,
 "nbformat_minor": 2
}
